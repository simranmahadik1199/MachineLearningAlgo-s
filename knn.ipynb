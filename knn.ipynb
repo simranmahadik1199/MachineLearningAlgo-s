{
  "nbformat": 4,
  "nbformat_minor": 0,
  "metadata": {
    "colab": {
      "name": "knn.ipynb",
      "provenance": [],
      "collapsed_sections": []
    },
    "kernelspec": {
      "name": "python3",
      "display_name": "Python 3"
    }
  },
  "cells": [
    {
      "cell_type": "code",
      "metadata": {
        "id": "f8c55wnUsfO0"
      },
      "source": [
        "from sklearn.datasets import load_wine"
      ],
      "execution_count": null,
      "outputs": []
    },
    {
      "cell_type": "code",
      "metadata": {
        "id": "BYqtzhbMsl4G"
      },
      "source": [
        "import pandas as pd\r\n",
        "import numpy as np\r\n",
        "from sklearn.model_selection import train_test_split\r\n",
        "from sklearn.preprocessing import MinMaxScaler\r\n",
        "from sklearn.neighbors import KNeighborsClassifier\r\n"
      ],
      "execution_count": 21,
      "outputs": []
    },
    {
      "cell_type": "code",
      "metadata": {
        "id": "NR2n-zEatLp-"
      },
      "source": [
        "pd.set_option('max_columns',None)"
      ],
      "execution_count": null,
      "outputs": []
    },
    {
      "cell_type": "code",
      "metadata": {
        "id": "_NFF1gZRuI2T"
      },
      "source": [
        "\r\n",
        "data=load_wine()"
      ],
      "execution_count": null,
      "outputs": []
    },
    {
      "cell_type": "code",
      "metadata": {
        "id": "6eG0BUsxvxLm"
      },
      "source": [
        "X=pd.DataFrame(data['data'],columns=data['feature_names'])"
      ],
      "execution_count": null,
      "outputs": []
    },
    {
      "cell_type": "code",
      "metadata": {
        "id": "0vf77O6swwLl"
      },
      "source": [
        "Y=data['target']"
      ],
      "execution_count": null,
      "outputs": []
    },
    {
      "cell_type": "code",
      "metadata": {
        "colab": {
          "base_uri": "https://localhost:8080/"
        },
        "id": "BoGArPsWw0-2",
        "outputId": "1bc0dbd8-82aa-4301-c240-ac72a7100d91"
      },
      "source": [
        "#check null values\r\n",
        "X.isnull().sum()"
      ],
      "execution_count": null,
      "outputs": [
        {
          "output_type": "execute_result",
          "data": {
            "text/plain": [
              "alcohol                         0\n",
              "malic_acid                      0\n",
              "ash                             0\n",
              "alcalinity_of_ash               0\n",
              "magnesium                       0\n",
              "total_phenols                   0\n",
              "flavanoids                      0\n",
              "nonflavanoid_phenols            0\n",
              "proanthocyanins                 0\n",
              "color_intensity                 0\n",
              "hue                             0\n",
              "od280/od315_of_diluted_wines    0\n",
              "proline                         0\n",
              "dtype: int64"
            ]
          },
          "metadata": {
            "tags": []
          },
          "execution_count": 12
        }
      ]
    },
    {
      "cell_type": "code",
      "metadata": {
        "id": "n7AqFHoRw9AS"
      },
      "source": [
        "#normalizing high range column values\r\n",
        "scaler=MinMaxScaler()\r\n",
        "X_scaled=scaler.fit_transform(X)\r\n"
      ],
      "execution_count": null,
      "outputs": []
    },
    {
      "cell_type": "code",
      "metadata": {
        "id": "l_xQPHfEyKEL",
        "colab": {
          "base_uri": "https://localhost:8080/"
        },
        "outputId": "04b89577-3a19-4030-a5c4-24d97f92d9f5"
      },
      "source": [
        "print(X_scaled)"
      ],
      "execution_count": null,
      "outputs": [
        {
          "output_type": "stream",
          "text": [
            "[[0.84210526 0.1916996  0.57219251 ... 0.45528455 0.97069597 0.56134094]\n",
            " [0.57105263 0.2055336  0.4171123  ... 0.46341463 0.78021978 0.55064194]\n",
            " [0.56052632 0.3201581  0.70053476 ... 0.44715447 0.6959707  0.64693295]\n",
            " ...\n",
            " [0.58947368 0.69960474 0.48128342 ... 0.08943089 0.10622711 0.39728959]\n",
            " [0.56315789 0.36561265 0.54010695 ... 0.09756098 0.12820513 0.40085592]\n",
            " [0.81578947 0.66403162 0.73796791 ... 0.10569106 0.12087912 0.20114123]]\n"
          ],
          "name": "stdout"
        }
      ]
    },
    {
      "cell_type": "code",
      "metadata": {
        "id": "nGoUWmpfV6Rx"
      },
      "source": [
        "model=KNeighborsClassifier(n_neighbors=5)"
      ],
      "execution_count": null,
      "outputs": []
    },
    {
      "cell_type": "code",
      "metadata": {
        "colab": {
          "base_uri": "https://localhost:8080/"
        },
        "id": "x0XKHveAWDpW",
        "outputId": "312212af-c328-4358-c51d-384623080c4f"
      },
      "source": [
        "model.fit(X_scaled,Y)"
      ],
      "execution_count": null,
      "outputs": [
        {
          "output_type": "execute_result",
          "data": {
            "text/plain": [
              "KNeighborsClassifier(algorithm='auto', leaf_size=30, metric='minkowski',\n",
              "                     metric_params=None, n_jobs=None, n_neighbors=5, p=2,\n",
              "                     weights='uniform')"
            ]
          },
          "metadata": {
            "tags": []
          },
          "execution_count": 18
        }
      ]
    },
    {
      "cell_type": "code",
      "metadata": {
        "id": "4XRDwSskWISi"
      },
      "source": [
        "X_train,X_test,Y_train,Y_test=train_test_split(X,Y,test_size=0.2,random_state=42)"
      ],
      "execution_count": 26,
      "outputs": []
    },
    {
      "cell_type": "code",
      "metadata": {
        "id": "ldj-mGwKWe5h"
      },
      "source": [
        "scaler=MinMaxScaler()"
      ],
      "execution_count": 27,
      "outputs": []
    },
    {
      "cell_type": "code",
      "metadata": {
        "id": "SFTgJZ1PYEVJ"
      },
      "source": [
        "X_train_scaled=scaler.fit_transform(X_train)\r\n"
      ],
      "execution_count": 28,
      "outputs": []
    },
    {
      "cell_type": "code",
      "metadata": {
        "id": "owPJx0raYyvV"
      },
      "source": [
        "X_test_scaled=scaler.fit_transform(X_train)\r\n"
      ],
      "execution_count": 29,
      "outputs": []
    },
    {
      "cell_type": "code",
      "metadata": {
        "colab": {
          "base_uri": "https://localhost:8080/"
        },
        "id": "RI-CkZq4ZBcM",
        "outputId": "d2b590ea-e30f-4d49-ab28-ef831a322de8"
      },
      "source": [
        "print(X_train_scaled)"
      ],
      "execution_count": 30,
      "outputs": [
        {
          "output_type": "stream",
          "text": [
            "[[0.87105263 0.16089613 0.71657754 ... 0.07317073 0.25274725 0.30102443]\n",
            " [0.39473684 0.94093686 0.68449198 ... 0.27642276 0.15384615 0.18676123]\n",
            " [0.35263158 0.03665988 0.39572193 ... 0.45528455 0.54945055 0.30102443]\n",
            " ...\n",
            " [0.88157895 0.19959267 0.54545455 ... 0.58536585 0.63369963 1.        ]\n",
            " [0.43684211 0.13034623 0.48128342 ... 0.3902439  0.28937729 0.17100079]\n",
            " [0.34473684 0.31771894 0.58823529 ... 0.2601626  0.77289377 0.12608353]]\n"
          ],
          "name": "stdout"
        }
      ]
    },
    {
      "cell_type": "code",
      "metadata": {
        "id": "HBLGzs_zZIW8"
      },
      "source": [
        "model=KNeighborsClassifier(n_neighbors=5)"
      ],
      "execution_count": 31,
      "outputs": []
    },
    {
      "cell_type": "code",
      "metadata": {
        "colab": {
          "base_uri": "https://localhost:8080/"
        },
        "id": "fZ00NOhGZQPr",
        "outputId": "7604f8b3-63e7-4b28-8e8a-48cf84c644bd"
      },
      "source": [
        "model.fit(X_train_scaled,Y_train)"
      ],
      "execution_count": 32,
      "outputs": [
        {
          "output_type": "execute_result",
          "data": {
            "text/plain": [
              "KNeighborsClassifier(algorithm='auto', leaf_size=30, metric='minkowski',\n",
              "                     metric_params=None, n_jobs=None, n_neighbors=5, p=2,\n",
              "                     weights='uniform')"
            ]
          },
          "metadata": {
            "tags": []
          },
          "execution_count": 32
        }
      ]
    },
    {
      "cell_type": "code",
      "metadata": {
        "id": "RkmZUyX0Zkoh"
      },
      "source": [
        "y_pred=model.predict(X_test_scaled)"
      ],
      "execution_count": 33,
      "outputs": []
    },
    {
      "cell_type": "code",
      "metadata": {
        "id": "gUTdAbLyZtOy"
      },
      "source": [
        "from sklearn.metrics import accuracy_score"
      ],
      "execution_count": 34,
      "outputs": []
    },
    {
      "cell_type": "code",
      "metadata": {
        "id": "jtQMP1MfZ0ba"
      },
      "source": [
        "accuracy_score=(Y_test,y_pred)"
      ],
      "execution_count": 40,
      "outputs": []
    },
    {
      "cell_type": "code",
      "metadata": {
        "id": "7E3Z6SJ8bLK7"
      },
      "source": [
        ""
      ],
      "execution_count": null,
      "outputs": []
    },
    {
      "cell_type": "code",
      "metadata": {
        "id": "BjEuBvWlcW_w"
      },
      "source": [
        ""
      ],
      "execution_count": null,
      "outputs": []
    }
  ]
}